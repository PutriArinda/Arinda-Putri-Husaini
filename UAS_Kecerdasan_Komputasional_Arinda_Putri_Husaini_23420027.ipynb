{
  "nbformat": 4,
  "nbformat_minor": 0,
  "metadata": {
    "colab": {
      "provenance": [],
      "authorship_tag": "ABX9TyMSUCrsTU36jVIPxKFEA2lz",
      "include_colab_link": true
    },
    "kernelspec": {
      "name": "python3",
      "display_name": "Python 3"
    },
    "language_info": {
      "name": "python"
    }
  },
  "cells": [
    {
      "cell_type": "markdown",
      "metadata": {
        "id": "view-in-github",
        "colab_type": "text"
      },
      "source": [
        "<a href=\"https://colab.research.google.com/github/PutriArinda/Arinda-Putri-Husaini/blob/main/UAS_Kecerdasan_Komputasional_Arinda_Putri_Husaini_23420027.ipynb\" target=\"_parent\"><img src=\"https://colab.research.google.com/assets/colab-badge.svg\" alt=\"Open In Colab\"/></a>"
      ]
    },
    {
      "cell_type": "markdown",
      "source": [
        "*Import Library Pandas"
      ],
      "metadata": {
        "id": "k2xnKJCEoSep"
      }
    },
    {
      "cell_type": "code",
      "execution_count": null,
      "metadata": {
        "id": "7FhO_jYEnaF9"
      },
      "outputs": [],
      "source": [
        "import pandas as pd"
      ]
    },
    {
      "cell_type": "markdown",
      "source": [
        "*Import file Dari Google Drive"
      ],
      "metadata": {
        "id": "aOqIXpsstG-T"
      }
    },
    {
      "cell_type": "code",
      "source": [
        "import os\n",
        "from google.colab import drive\n",
        "drive.mount('/content/drive')\n"
      ],
      "metadata": {
        "colab": {
          "base_uri": "https://localhost:8080/"
        },
        "id": "KpxLtcMFtKIw",
        "outputId": "160c8ae3-9539-4ef4-f4fe-d0b124716a43"
      },
      "execution_count": null,
      "outputs": [
        {
          "output_type": "stream",
          "name": "stdout",
          "text": [
            "Drive already mounted at /content/drive; to attempt to forcibly remount, call drive.mount(\"/content/drive\", force_remount=True).\n"
          ]
        }
      ]
    },
    {
      "cell_type": "markdown",
      "source": [
        "*Pada Perintah berikut merupakan perintah dimana kita bisa menentukan dan mendefinisikan Himpunan Fuzzy untuk fungsi nilai emosi"
      ],
      "metadata": {
        "id": "dSn6wMOyuu70"
      }
    },
    {
      "cell_type": "code",
      "source": [
        "def checkEmotion(x):\n",
        "    eLow, eMedium, eHigh = 0,0,0\n",
        "\n",
        "    if x >= 0 and x <= 35:\n",
        "        eLow    = 1\n",
        "\n",
        "    elif x > 35 and x < 39:\n",
        "        eLow    = (-1*((x-39)/(39-35)))\n",
        "        eMedium = ((x-35)/(39-35))\n",
        "\n",
        "    elif x >= 39 and x <= 61:\n",
        "        eMedium = 1\n",
        "\n",
        "    elif x > 61 and x <65:\n",
        "        eMedium = (-1*((x-65)/(65-61)))\n",
        "        eHigh   = ((x-61)/(65-1))\n",
        "\n",
        "    elif x >= 65:\n",
        "        eHigh   = 1\n",
        "\n",
        "    return eLow, eMedium, eHigh\n",
        "\n"
      ],
      "metadata": {
        "id": "Owli5z5Gur71"
      },
      "execution_count": null,
      "outputs": []
    },
    {
      "cell_type": "markdown",
      "source": [
        "*Ini Merupakan Deklarasi untuk menentukan fungsi nilai provokasi Untuk menentukan fungsi nilai provokasi dalam konteks sistem logika fuzzy,maka kita perlu mendefinisikan himpunan fuzzy yang mewakili nilai-nilai provokasi yang relevan."
      ],
      "metadata": {
        "id": "R51HgjZEvDHP"
      }
    },
    {
      "cell_type": "code",
      "source": [
        "def checkProvoke(x):\n",
        "    pLow, pMedium, pHigh = 0,0,0\n",
        "\n",
        "    if x >= 0 and x <= 55:\n",
        "        pLow    = 1\n",
        "\n",
        "    elif x > 55 and x < 60:\n",
        "        pLow    = (-1*(x-60)/(60-55))\n",
        "        pMedium = ((x-55)/(60-55))\n",
        "\n",
        "    elif x >= 60 and x <= 85:\n",
        "        pMedium = 1\n",
        "\n",
        "    elif x > 85 and x < 87:\n",
        "        pMedium = (-1*(x-87)/(82-87))\n",
        "        pHigh   = ((x-85)/(87-85))\n",
        "\n",
        "    elif x >= 87:\n",
        "        pHigh   = 1\n",
        "\n",
        "    return pLow, pMedium, pHigh\n"
      ],
      "metadata": {
        "id": "8OLBLqdhu-LB"
      },
      "execution_count": null,
      "outputs": []
    },
    {
      "cell_type": "markdown",
      "source": [
        "*Perintah Untuk mendeklarasikan fungsi \"inference\" dalam sistem logika fuzzy, Kita perlu menggunakan aturan fuzzy untuk menghitung nilai output fuzzy berdasarkan kombinasi emosi dan provokasi."
      ],
      "metadata": {
        "id": "-Y1Wxl-yvLsE"
      }
    },
    {
      "cell_type": "code",
      "source": [
        "def inference(eLow, eMedium, eHigh, pLow, pMedium, pHigh):\n",
        "    Y1,Y2,Y3,Y4,Y5 = 0,0,0,0,0\n",
        "    N1,N2,N3,N4 = 0,0,0,0\n",
        "    Y,N = 0,0\n",
        "\n",
        "    if eHigh != 0 and pHigh != 0:\n",
        "        Y1 = min(eHigh,pHigh)\n",
        "\n",
        "    if eHigh != 0 and pMedium != 0:\n",
        "        Y2 = min(eHigh,pMedium)\n",
        "\n",
        "    if eHigh != 0 and pLow != 0:\n",
        "        N1 = min(eHigh,pLow)\n",
        "\n",
        "    if eMedium != 0 and pHigh !=0:\n",
        "        Y3 = min(eMedium,pHigh)\n",
        "\n",
        "    if eMedium != 0 and pMedium != 0:\n",
        "        N2 = min(eMedium,pMedium)\n",
        "\n",
        "    if eMedium != 0 and pLow != 0:\n",
        "        N3 = min(eMedium,pLow)\n",
        "\n",
        "    if eLow != 0 and pHigh != 0:\n",
        "        Y4 = min(eLow,pHigh)\n",
        "\n",
        "    if eLow != 0 and pMedium != 0:\n",
        "        Y5 = min(eLow,pMedium)\n",
        "\n",
        "    if eLow != 0 and pLow != 0:\n",
        "        N4 = min(eLow,pLow)\n",
        "\n",
        "    Y = max(Y1,Y2,Y3,Y4,Y5)\n",
        "    N = max(N1,N2,N3,N4)\n",
        "    return Y,N\n"
      ],
      "metadata": {
        "id": "szd8ub8AvfLz"
      },
      "execution_count": null,
      "outputs": []
    },
    {
      "cell_type": "markdown",
      "source": [
        "*Perintah dibawah ini kita bisa menggunakan fungsi defuzzifikasi untuk mengubah nilai fuzzy menjadi nilai konkret. Dalam sistem logika fuzzy, ada beberapa metode defuzzifikasi yang umum digunakan, seperti metode centroid, mean of maximum (MOM), bisector, dan largest of maximum (LOM)."
      ],
      "metadata": {
        "id": "V_DeOiqFv8aO"
      }
    },
    {
      "cell_type": "code",
      "source": [
        "def defuzzification(Y,N):\n",
        "    if Y != 0 and N != 0:\n",
        "        return ((Y*60)+(N*40))/(Y+N)\n",
        "    elif Y != 0:\n",
        "        return (Y*60)/Y\n",
        "    elif N != 0:\n",
        "        return (N*40)/N"
      ],
      "metadata": {
        "id": "bfcF9xRfwVfD"
      },
      "execution_count": null,
      "outputs": []
    },
    {
      "cell_type": "markdown",
      "source": [
        "*Program Utama\n"
      ],
      "metadata": {
        "id": "Q8yJ03zSwbd9"
      }
    },
    {
      "cell_type": "code",
      "source": [
        "# Membaca file dari excel\n",
        "data = pd.read_excel('/content/News.xlsx') # jalur file Excel\n",
        "\n",
        "# Ekstrak value nilai dari excel\n",
        "news = data['News'].tolist()\n",
        "emotion = data['Emotion'].tolist()\n",
        "provoke = data['Provoke'].tolist()\n",
        "\n",
        "count = 0\n",
        "while count < len(news):\n",
        "    eLow, eMedium, eHigh = checkEmotion(emotion[count])\n",
        "    pLow, pMedium, pHigh = checkProvoke(provoke[count])\n",
        "    Ya, Tidak = inference(eLow, eMedium, eHigh, pLow, pMedium, pHigh)\n",
        "    hasil = defuzzification(Ya, Tidak)\n",
        "    if hasil < 55.0:\n",
        "        hoax = \"No\"\n",
        "    elif hasil >= 55.0:\n",
        "        hoax = \"Yes\"\n",
        "    print(\"News:\", news[count], \" Emotion:\", emotion[count], \" Provoke:\", provoke[count], \" Hoax:\", hoax)\n",
        "\n",
        "    count += 1\n"
      ],
      "metadata": {
        "colab": {
          "base_uri": "https://localhost:8080/"
        },
        "id": "mBQ4g4s6wf2r",
        "outputId": "7e501092-3f92-4df4-d8d4-aa5f1bf7d8d6"
      },
      "execution_count": null,
      "outputs": [
        {
          "output_type": "stream",
          "name": "stdout",
          "text": [
            "News: B01  Emotion: 100  Provoke: 88  Hoax: Yes\n",
            "News: B02  Emotion: 25  Provoke: 70  Hoax: Yes\n",
            "News: B03  Emotion: 30  Provoke: 65  Hoax: Yes\n",
            "News: B04  Emotion: 40  Provoke: 95  Hoax: Yes\n",
            "News: B05  Emotion: 75  Provoke: 77  Hoax: Yes\n",
            "News: B06  Emotion: 79  Provoke: 85  Hoax: Yes\n",
            "News: B07  Emotion: 80  Provoke: 68  Hoax: Yes\n",
            "News: B08  Emotion: 82  Provoke: 72  Hoax: Yes\n",
            "News: B09  Emotion: 90  Provoke: 95  Hoax: Yes\n",
            "News: B10  Emotion: 88  Provoke: 100  Hoax: Yes\n",
            "News: B11  Emotion: 70  Provoke: 25  Hoax: No\n",
            "News: B12  Emotion: 65  Provoke: 30  Hoax: No\n",
            "News: B13  Emotion: 95  Provoke: 40  Hoax: No\n",
            "News: B14  Emotion: 77  Provoke: 75  Hoax: Yes\n",
            "News: B15  Emotion: 85  Provoke: 79  Hoax: Yes\n",
            "News: B16  Emotion: 68  Provoke: 80  Hoax: Yes\n",
            "News: B17  Emotion: 72  Provoke: 82  Hoax: Yes\n",
            "News: B18  Emotion: 95  Provoke: 90  Hoax: Yes\n",
            "News: B19  Emotion: 18  Provoke: 18  Hoax: No\n",
            "News: B20  Emotion: 99  Provoke: 100  Hoax: Yes\n",
            "News: B21  Emotion: 63  Provoke: 25  Hoax: No\n",
            "News: B22  Emotion: 90  Provoke: 30  Hoax: No\n",
            "News: B23  Emotion: 25  Provoke: 40  Hoax: No\n",
            "News: B24  Emotion: 81  Provoke: 75  Hoax: Yes\n",
            "News: B25  Emotion: 62  Provoke: 79  Hoax: No\n",
            "News: B26  Emotion: 45  Provoke: 80  Hoax: No\n",
            "News: B27  Emotion: 65  Provoke: 82  Hoax: Yes\n",
            "News: B28  Emotion: 45  Provoke: 90  Hoax: Yes\n",
            "News: B29  Emotion: 95  Provoke: 88  Hoax: Yes\n",
            "News: B30  Emotion: 45  Provoke: 70  Hoax: No\n"
          ]
        }
      ]
    },
    {
      "cell_type": "markdown",
      "source": [
        "Apakah data pada source code bisa berubah secara otomatis jikalau data pada excel berubah ?\n",
        "\n",
        "Ya, data pada source code dapat diubah secara otomatis jika data pada file Excel berubah. Namun, ini akan tergantung pada bagaimana source code tersebut diimplementasikan dan apakah ada mekanisme yang menghubungkan antara file Excel dan source code.\n",
        "\n",
        "Jika Anda telah membuat program yang mengambil data dari file Excel dan menggunakan data tersebut dalam source code, Anda dapat memprogram aplikasi atau skrip untuk secara otomatis memperbarui data di source code ketika file Excel berubah. Anda dapat menggunakan pustaka atau modul yang tersedia dalam bahasa pemrograman yang Anda gunakan untuk membaca data dari file Excel dan menggunakannya dalam source code."
      ],
      "metadata": {
        "id": "fKd5jFfbw8I0"
      }
    }
  ]
}