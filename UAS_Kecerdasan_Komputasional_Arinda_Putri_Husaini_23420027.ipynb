{
  "nbformat": 4,
  "nbformat_minor": 0,
  "metadata": {
    "colab": {
      "provenance": [],
      "authorship_tag": "ABX9TyO71lW5E5U0u3xpl4q8R6Cu",
      "include_colab_link": true
    },
    "kernelspec": {
      "name": "python3",
      "display_name": "Python 3"
    },
    "language_info": {
      "name": "python"
    }
  },
  "cells": [
    {
      "cell_type": "markdown",
      "metadata": {
        "id": "view-in-github",
        "colab_type": "text"
      },
      "source": [
        "<a href=\"https://colab.research.google.com/github/PutriArinda/Arinda-Putri-Husaini/blob/main/UAS_Kecerdasan_Komputasional_Arinda_Putri_Husaini_23420027.ipynb\" target=\"_parent\"><img src=\"https://colab.research.google.com/assets/colab-badge.svg\" alt=\"Open In Colab\"/></a>"
      ]
    },
    {
      "cell_type": "markdown",
      "source": [
        "*Import Library Pandas"
      ],
      "metadata": {
        "id": "k2xnKJCEoSep"
      }
    },
    {
      "cell_type": "code",
      "execution_count": 1,
      "metadata": {
        "id": "7FhO_jYEnaF9"
      },
      "outputs": [],
      "source": [
        "import pandas as pd"
      ]
    },
    {
      "cell_type": "markdown",
      "source": [
        "*Import Data Dari Google Drive"
      ],
      "metadata": {
        "id": "aOqIXpsstG-T"
      }
    },
    {
      "cell_type": "code",
      "source": [
        "import os\n",
        "from google.colab import drive\n",
        "drive.mount('/content/drive')\n"
      ],
      "metadata": {
        "colab": {
          "base_uri": "https://localhost:8080/"
        },
        "id": "KpxLtcMFtKIw",
        "outputId": "8f7026c0-5dec-4e1a-fc72-4ebe13c8feec"
      },
      "execution_count": 7,
      "outputs": [
        {
          "output_type": "stream",
          "name": "stdout",
          "text": [
            "Mounted at /content/drive\n"
          ]
        }
      ]
    },
    {
      "cell_type": "markdown",
      "source": [
        "*Deklarasi Untuk Fungsi Nilai Cek Emosi"
      ],
      "metadata": {
        "id": "dSn6wMOyuu70"
      }
    },
    {
      "cell_type": "code",
      "source": [
        "def checkEmotion(x):\n",
        "    eLow, eMedium, eHigh = 0,0,0\n",
        "\n",
        "    if x >= 0 and x <= 35:\n",
        "        eLow    = 1\n",
        "\n",
        "    elif x > 35 and x < 39:\n",
        "        eLow    = (-1*((x-39)/(39-35)))\n",
        "        eMedium = ((x-35)/(39-35))\n",
        "\n",
        "    elif x >= 39 and x <= 61:\n",
        "        eMedium = 1\n",
        "\n",
        "    elif x > 61 and x <65:\n",
        "        eMedium = (-1*((x-65)/(65-61)))\n",
        "        eHigh   = ((x-61)/(65-1))\n",
        "\n",
        "    elif x >= 65:\n",
        "        eHigh   = 1\n",
        "\n",
        "    return eLow, eMedium, eHigh\n",
        "\n",
        ""
      ],
      "metadata": {
        "id": "Owli5z5Gur71"
      },
      "execution_count": 8,
      "outputs": []
    },
    {
      "cell_type": "markdown",
      "source": [
        "*Deklarasi untuk fungsi nilai provokasi"
      ],
      "metadata": {
        "id": "R51HgjZEvDHP"
      }
    },
    {
      "cell_type": "code",
      "source": [
        "def checkProvoke(x):\n",
        "    pLow, pMedium, pHigh = 0,0,0\n",
        "\n",
        "    if x >= 0 and x <= 55:\n",
        "        pLow    = 1\n",
        "\n",
        "    elif x > 55 and x < 60:\n",
        "        pLow    = (-1*(x-60)/(60-55))\n",
        "        pMedium = ((x-55)/(60-55))\n",
        "\n",
        "    elif x >= 60 and x <= 85:\n",
        "        pMedium = 1\n",
        "\n",
        "    elif x > 85 and x < 87:\n",
        "        pMedium = (-1*(x-87)/(82-87))\n",
        "        pHigh   = ((x-85)/(87-85))\n",
        "\n",
        "    elif x >= 87:\n",
        "        pHigh   = 1\n",
        "\n",
        "    return pLow, pMedium, pHigh\n",
        ""
      ],
      "metadata": {
        "id": "8OLBLqdhu-LB"
      },
      "execution_count": 9,
      "outputs": []
    },
    {
      "cell_type": "markdown",
      "source": [
        "*Deklarasi untuk Fungsi \"inference\" digunakan untuk menghitung nilai output fuzzy menggunakan kombinasi emosi dan provokasi"
      ],
      "metadata": {
        "id": "-Y1Wxl-yvLsE"
      }
    },
    {
      "cell_type": "code",
      "source": [
        "def inference(eLow, eMedium, eHigh, pLow, pMedium, pHigh):\n",
        "    Y1,Y2,Y3,Y4,Y5 = 0,0,0,0,0\n",
        "    N1,N2,N3,N4 = 0,0,0,0\n",
        "    Y,N = 0,0\n",
        "\n",
        "    if eHigh != 0 and pHigh != 0:\n",
        "        Y1 = min(eHigh,pHigh)\n",
        "\n",
        "    if eHigh != 0 and pMedium != 0:\n",
        "        Y2 = min(eHigh,pMedium)\n",
        "\n",
        "    if eHigh != 0 and pLow != 0:\n",
        "        N1 = min(eHigh,pLow)\n",
        "\n",
        "    if eMedium != 0 and pHigh !=0:\n",
        "        Y3 = min(eMedium,pHigh)\n",
        "\n",
        "    if eMedium != 0 and pMedium != 0:\n",
        "        N2 = min(eMedium,pMedium)\n",
        "\n",
        "    if eMedium != 0 and pLow != 0:\n",
        "        N3 = min(eMedium,pLow)\n",
        "\n",
        "    if eLow != 0 and pHigh != 0:\n",
        "        Y4 = min(eLow,pHigh)\n",
        "\n",
        "    if eLow != 0 and pMedium != 0:\n",
        "        Y5 = min(eLow,pMedium)\n",
        "\n",
        "    if eLow != 0 and pLow != 0:\n",
        "        N4 = min(eLow,pLow)\n",
        "\n",
        "    Y = max(Y1,Y2,Y3,Y4,Y5)\n",
        "    N = max(N1,N2,N3,N4)\n",
        "    return Y,N\n",
        ""
      ],
      "metadata": {
        "id": "szd8ub8AvfLz"
      },
      "execution_count": 10,
      "outputs": []
    },
    {
      "cell_type": "markdown",
      "source": [
        "*Deklarasi untuk fungsi \"defuzzification\" digunakan untuk melakukan defuzzifikasi atau konversi nilai fuzzy menjadi nilai konkret"
      ],
      "metadata": {
        "id": "V_DeOiqFv8aO"
      }
    },
    {
      "cell_type": "code",
      "source": [
        "def defuzzification(Y,N):\n",
        "    if Y != 0 and N != 0:\n",
        "        return ((Y*60)+(N*40))/(Y+N)\n",
        "    elif Y != 0:\n",
        "        return (Y*60)/Y\n",
        "    elif N != 0:\n",
        "        return (N*40)/N"
      ],
      "metadata": {
        "id": "bfcF9xRfwVfD"
      },
      "execution_count": 11,
      "outputs": []
    },
    {
      "cell_type": "markdown",
      "source": [
        "*Program Utama"
      ],
      "metadata": {
        "id": "Q8yJ03zSwbd9"
      }
    },
    {
      "cell_type": "code",
      "source": [
        "# Membaca file dari excel\n",
        "data = pd.read_excel('/content/News.xlsx') # jalur file Excel\n",
        "\n",
        "# Ekstrak value nilai dari excel\n",
        "news = data['News'].tolist()\n",
        "emotion = data['Emotion'].tolist()\n",
        "provoke = data['Provoke'].tolist()\n",
        "\n",
        "count = 0\n",
        "while count < len(news):\n",
        "    eLow, eMedium, eHigh = checkEmotion(emotion[count])\n",
        "    pLow, pMedium, pHigh = checkProvoke(provoke[count])\n",
        "    Ya, Tidak = inference(eLow, eMedium, eHigh, pLow, pMedium, pHigh)\n",
        "    hasil = defuzzification(Ya, Tidak)\n",
        "    if hasil < 55.0:\n",
        "        hoax = \"No\"\n",
        "    elif hasil >= 55.0:\n",
        "        hoax = \"Yes\"\n",
        "    print(\"News:\", news[count], \" Emotion:\", emotion[count], \" Provoke:\", provoke[count], \" Hoax:\", hoax)\n",
        "\n",
        "    count += 1\n",
        ""
      ],
      "metadata": {
        "colab": {
          "base_uri": "https://localhost:8080/"
        },
        "id": "mBQ4g4s6wf2r",
        "outputId": "3a763118-e524-48e2-d957-ade096d6a812"
      },
      "execution_count": 13,
      "outputs": [
        {
          "output_type": "stream",
          "name": "stdout",
          "text": [
            "News: B01  Emotion: 97  Provoke: 74  Hoax: Yes\n",
            "News: B02  Emotion: 36  Provoke: 85  Hoax: Yes\n",
            "News: B03  Emotion: 63  Provoke: 43  Hoax: No\n",
            "News: B04  Emotion: 82  Provoke: 90  Hoax: Yes\n",
            "News: B05  Emotion: 71  Provoke: 25  Hoax: No\n",
            "News: B06  Emotion: 79  Provoke: 81  Hoax: Yes\n",
            "News: B07  Emotion: 55  Provoke: 62  Hoax: No\n",
            "News: B08  Emotion: 57  Provoke: 45  Hoax: No\n",
            "News: B09  Emotion: 40  Provoke: 65  Hoax: No\n",
            "News: B10  Emotion: 57  Provoke: 45  Hoax: No\n",
            "News: B11  Emotion: 77  Provoke: 70  Hoax: Yes\n",
            "News: B12  Emotion: 68  Provoke: 75  Hoax: Yes\n",
            "News: B13  Emotion: 60  Provoke: 70  Hoax: No\n",
            "News: B14  Emotion: 82  Provoke: 90  Hoax: Yes\n",
            "News: B15  Emotion: 40  Provoke: 85  Hoax: No\n",
            "News: B16  Emotion: 80  Provoke: 68  Hoax: Yes\n",
            "News: B17  Emotion: 60  Provoke: 72  Hoax: No\n",
            "News: B18  Emotion: 50  Provoke: 95  Hoax: Yes\n",
            "News: B19  Emotion: 100  Provoke: 18  Hoax: No\n",
            "News: B20  Emotion: 11  Provoke: 99  Hoax: Yes\n",
            "News: B21  Emotion: 58  Provoke: 63  Hoax: No\n",
            "News: B22  Emotion: 68  Provoke: 70  Hoax: Yes\n",
            "News: B23  Emotion: 64  Provoke: 66  Hoax: No\n",
            "News: B24  Emotion: 57  Provoke: 77  Hoax: No\n",
            "News: B25  Emotion: 77  Provoke: 55  Hoax: No\n",
            "News: B26  Emotion: 98  Provoke: 64  Hoax: Yes\n",
            "News: B27  Emotion: 91  Provoke: 59  Hoax: Yes\n",
            "News: B28  Emotion: 50  Provoke: 95  Hoax: Yes\n",
            "News: B29  Emotion: 95  Provoke: 55  Hoax: No\n",
            "News: B30  Emotion: 27  Provoke: 79  Hoax: Yes\n"
          ]
        }
      ]
    },
    {
      "cell_type": "markdown",
      "source": [
        "Apakah data pada source code bisa berubah secara otomatis jikalau data pada excel berubah ?\n",
        "\n",
        "iya, karena\n",
        "  Data pada source code akan berubah secara otomatis jika data pada Excel berubah karena kode sumber membaca data langsung dari file Excel setiap kali dijalankan.\n",
        "\n",
        "  Karena kode tersebut membaca data dari file Excel setiap kali dijalankan, setiap perubahan yang terjadi pada file Excel akan segera tercermin dalam source code. Jadi, jika ada perubahan pada data di file Excel, ketika kode dijalankan, data yang dibaca dan digunakan akan menjadi data terbaru yang diperbarui.\n",
        "  \n",
        "  Hal ini memastikan bahwa kode selalu mengambil data terbaru dari file Excel dan melakukan operasi berdasarkan data tersebut. Sehingga, ketika data berubah, hasil yang dihasilkan oleh kode juga akan berubah sesuai dengan perubahan pada file Excel."
      ],
      "metadata": {
        "id": "fKd5jFfbw8I0"
      }
    }
  ]
}